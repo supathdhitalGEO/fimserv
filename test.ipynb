{
 "cells": [
  {
   "cell_type": "code",
   "execution_count": 1,
   "metadata": {},
   "outputs": [
    {
     "data": {
      "text/html": [
       "<div>\n",
       "<style scoped>\n",
       "    .dataframe tbody tr th:only-of-type {\n",
       "        vertical-align: middle;\n",
       "    }\n",
       "\n",
       "    .dataframe tbody tr th {\n",
       "        vertical-align: top;\n",
       "    }\n",
       "\n",
       "    .dataframe thead th {\n",
       "        text-align: right;\n",
       "    }\n",
       "</style>\n",
       "<table border=\"1\" class=\"dataframe\">\n",
       "  <thead>\n",
       "    <tr style=\"text-align: right;\">\n",
       "      <th></th>\n",
       "      <th>value_time</th>\n",
       "      <th>location_id</th>\n",
       "      <th>value</th>\n",
       "      <th>measurement_unit</th>\n",
       "      <th>variable_name</th>\n",
       "      <th>configuration</th>\n",
       "      <th>reference_time</th>\n",
       "    </tr>\n",
       "  </thead>\n",
       "  <tbody>\n",
       "    <tr>\n",
       "      <th>0</th>\n",
       "      <td>2019-01-01</td>\n",
       "      <td>nwm30-11239503</td>\n",
       "      <td>393.179991</td>\n",
       "      <td>m3/s</td>\n",
       "      <td>streamflow</td>\n",
       "      <td>nwm30_retrospective</td>\n",
       "      <td>2019-01-01</td>\n",
       "    </tr>\n",
       "    <tr>\n",
       "      <th>1</th>\n",
       "      <td>2019-01-01</td>\n",
       "      <td>nwm30-11239409</td>\n",
       "      <td>362.649992</td>\n",
       "      <td>m3/s</td>\n",
       "      <td>streamflow</td>\n",
       "      <td>nwm30_retrospective</td>\n",
       "      <td>2019-01-01</td>\n",
       "    </tr>\n",
       "    <tr>\n",
       "      <th>2</th>\n",
       "      <td>2019-01-01</td>\n",
       "      <td>nwm30-11239425</td>\n",
       "      <td>363.139992</td>\n",
       "      <td>m3/s</td>\n",
       "      <td>streamflow</td>\n",
       "      <td>nwm30_retrospective</td>\n",
       "      <td>2019-01-01</td>\n",
       "    </tr>\n",
       "    <tr>\n",
       "      <th>3</th>\n",
       "      <td>2019-01-01</td>\n",
       "      <td>nwm30-11239391</td>\n",
       "      <td>361.559992</td>\n",
       "      <td>m3/s</td>\n",
       "      <td>streamflow</td>\n",
       "      <td>nwm30_retrospective</td>\n",
       "      <td>2019-01-01</td>\n",
       "    </tr>\n",
       "    <tr>\n",
       "      <th>4</th>\n",
       "      <td>2019-01-01</td>\n",
       "      <td>nwm30-11239377</td>\n",
       "      <td>360.409992</td>\n",
       "      <td>m3/s</td>\n",
       "      <td>streamflow</td>\n",
       "      <td>nwm30_retrospective</td>\n",
       "      <td>2019-01-01</td>\n",
       "    </tr>\n",
       "  </tbody>\n",
       "</table>\n",
       "</div>"
      ],
      "text/plain": [
       "  value_time     location_id       value measurement_unit variable_name  \\\n",
       "0 2019-01-01  nwm30-11239503  393.179991             m3/s    streamflow   \n",
       "1 2019-01-01  nwm30-11239409  362.649992             m3/s    streamflow   \n",
       "2 2019-01-01  nwm30-11239425  363.139992             m3/s    streamflow   \n",
       "3 2019-01-01  nwm30-11239391  361.559992             m3/s    streamflow   \n",
       "4 2019-01-01  nwm30-11239377  360.409992             m3/s    streamflow   \n",
       "\n",
       "         configuration reference_time  \n",
       "0  nwm30_retrospective     2019-01-01  \n",
       "1  nwm30_retrospective     2019-01-01  \n",
       "2  nwm30_retrospective     2019-01-01  \n",
       "3  nwm30_retrospective     2019-01-01  \n",
       "4  nwm30_retrospective     2019-01-01  "
      ]
     },
     "execution_count": 1,
     "metadata": {},
     "output_type": "execute_result"
    }
   ],
   "source": [
    "import pandas as pd\n",
    "import numpy as np\n",
    "\n",
    "df = pd.read_parquet('/Users/supath/Downloads/MSResearch/CNN/fimPackage/output/flood_03020202/discharge/nwm30_retrospective/20190101_20200103.parquet')\n",
    "df.head()"
   ]
  },
  {
   "cell_type": "code",
   "execution_count": 4,
   "metadata": {},
   "outputs": [
    {
     "name": "stdout",
     "output_type": "stream",
     "text": [
      "                   Date   Discharge\n",
      "8   2019-01-01 00:00:00  355.989992\n",
      "119 2019-01-01 01:00:00  355.449992\n",
      "230 2019-01-01 02:00:00  354.909992\n",
      "341 2019-01-01 03:00:00  354.369992\n",
      "452 2019-01-01 04:00:00  353.839992\n"
     ]
    },
    {
     "name": "stderr",
     "output_type": "stream",
     "text": [
      "/var/folders/3g/sycd83_j0fb1l3sf8r5n5j000000gn/T/ipykernel_45762/787197721.py:12: SettingWithCopyWarning: \n",
      "A value is trying to be set on a copy of a slice from a DataFrame\n",
      "\n",
      "See the caveats in the documentation: https://pandas.pydata.org/pandas-docs/stable/user_guide/indexing.html#returning-a-view-versus-a-copy\n",
      "  filtered_data.rename(columns={'value_time': 'Date', 'value': 'Discharge'}, inplace=True)\n"
     ]
    }
   ],
   "source": [
    "def getFIDdata(data, feature_id):\n",
    "    location_id = f\"nwm30-{feature_id}\"\n",
    "    df = pd.read_parquet(data)\n",
    "    matched_rows = df[df['location_id'] == location_id]\n",
    "    filtered_data = matched_rows[['value_time', 'value']]\n",
    "    filtered_data.rename(columns={'value_time': 'Date', 'value': 'Discharge'}, inplace=True)\n",
    "    return filtered_data\n",
    "\n",
    "feature_id = '11239351' \n",
    "filtered_df = get_feature_data('/Users/supath/Downloads/MSResearch/CNN/fimPackage/output/flood_03020202/discharge/nwm30_retrospective/20190101_20200103.parquet', feature_id)\n",
    "print(filtered_df.head())"
   ]
  },
  {
   "cell_type": "code",
   "execution_count": null,
   "metadata": {},
   "outputs": [],
   "source": []
  }
 ],
 "metadata": {
  "kernelspec": {
   "display_name": "OWPHANDFIM",
   "language": "python",
   "name": "python3"
  },
  "language_info": {
   "codemirror_mode": {
    "name": "ipython",
    "version": 3
   },
   "file_extension": ".py",
   "mimetype": "text/x-python",
   "name": "python",
   "nbconvert_exporter": "python",
   "pygments_lexer": "ipython3",
   "version": "3.10.14"
  }
 },
 "nbformat": 4,
 "nbformat_minor": 2
}
