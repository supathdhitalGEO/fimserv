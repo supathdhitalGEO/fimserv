{
 "cells": [
  {
   "cell_type": "code",
   "execution_count": 1,
   "metadata": {},
   "outputs": [],
   "source": [
    "#It is just for developing purpose, No need to do this for your usage\n",
    "import sys\n",
    "from pathlib import Path\n",
    "sys.path.append(str(Path().resolve().parent / \"src\"))"
   ]
  },
  {
   "cell_type": "markdown",
   "metadata": {},
   "source": [
    "##### **Setup directories and download HUC8**\n",
    "**To run the plots especially synthetic rating curves and streamflow comparisions, user need to have the systematic folder structure so run this code before proceeding for your desired HUC**"
   ]
  },
  {
   "cell_type": "code",
   "execution_count": 5,
   "metadata": {},
   "outputs": [
    {
     "name": "stdout",
     "output_type": "stream",
     "text": [
      "Repository already exists at /Users/supath/Downloads/MSResearch/CNN/fimPackage/docs/code/inunation-mapping and contains files. Skipping clone.\n",
      "Data for HUC 030202020\n"
     ]
    },
    {
     "ename": "FileNotFoundError",
     "evalue": "[Errno 2] No such file or directory: '/Users/supath/Downloads/MSResearch/CNN/fimPackage/docs/output/flood_030202020/030202020/branch_ids.csv'",
     "output_type": "error",
     "traceback": [
      "\u001b[0;31m---------------------------------------------------------------------------\u001b[0m",
      "\u001b[0;31mFileNotFoundError\u001b[0m                         Traceback (most recent call last)",
      "Cell \u001b[0;32mIn[5], line 7\u001b[0m\n\u001b[1;32m      4\u001b[0m \u001b[38;5;66;03m#for single HUC8\u001b[39;00m\n\u001b[1;32m      5\u001b[0m HUC8 \u001b[38;5;241m=\u001b[39m \u001b[38;5;124m\"\u001b[39m\u001b[38;5;124m030202020\u001b[39m\u001b[38;5;124m\"\u001b[39m\n\u001b[0;32m----> 7\u001b[0m \u001b[43mfm\u001b[49m\u001b[38;5;241;43m.\u001b[39;49m\u001b[43mDownloadHUC8\u001b[49m\u001b[43m(\u001b[49m\u001b[43mHUC8\u001b[49m\u001b[43m)\u001b[49m   \u001b[38;5;66;03m#Download HUC8 rasters\u001b[39;00m\n",
      "File \u001b[0;32m~/Downloads/MSResearch/CNN/fimPackage/src/owphandfim/datadownload.py:98\u001b[0m, in \u001b[0;36mDownloadHUC8\u001b[0;34m(huc, stream_order)\u001b[0m\n\u001b[1;32m     96\u001b[0m code_dir, data_dir, output_dir \u001b[38;5;241m=\u001b[39m setup_directories()\n\u001b[1;32m     97\u001b[0m clone_repository(code_dir)\n\u001b[0;32m---> 98\u001b[0m \u001b[43mdownload_data\u001b[49m\u001b[43m(\u001b[49m\u001b[43mhuc\u001b[49m\u001b[43m,\u001b[49m\u001b[43m \u001b[49m\u001b[43moutput_dir\u001b[49m\u001b[43m)\u001b[49m\n\u001b[1;32m     99\u001b[0m EnvFile(code_dir)\n\u001b[1;32m    100\u001b[0m HUC_dir \u001b[38;5;241m=\u001b[39m os\u001b[38;5;241m.\u001b[39mpath\u001b[38;5;241m.\u001b[39mjoin(output_dir, \u001b[38;5;124mf\u001b[39m\u001b[38;5;124m\"\u001b[39m\u001b[38;5;124mflood_\u001b[39m\u001b[38;5;132;01m{\u001b[39;00mhuc\u001b[38;5;132;01m}\u001b[39;00m\u001b[38;5;124m\"\u001b[39m)\n",
      "File \u001b[0;32m~/Downloads/MSResearch/CNN/fimPackage/src/owphandfim/datadownload.py:52\u001b[0m, in \u001b[0;36mdownload_data\u001b[0;34m(huc_number, base_dir)\u001b[0m\n\u001b[1;32m     49\u001b[0m fim_inputs_path \u001b[38;5;241m=\u001b[39m os\u001b[38;5;241m.\u001b[39mpath\u001b[38;5;241m.\u001b[39mjoin(base_dir, \u001b[38;5;124mf\u001b[39m\u001b[38;5;124m\"\u001b[39m\u001b[38;5;124mflood_\u001b[39m\u001b[38;5;132;01m{\u001b[39;00mhuc_number\u001b[38;5;132;01m}\u001b[39;00m\u001b[38;5;124m\"\u001b[39m, \u001b[38;5;124m\"\u001b[39m\u001b[38;5;124mfim_inputs.csv\u001b[39m\u001b[38;5;124m\"\u001b[39m)\n\u001b[1;32m     51\u001b[0m \u001b[38;5;66;03m# Read the first row from branch_ids.csv\u001b[39;00m\n\u001b[0;32m---> 52\u001b[0m \u001b[38;5;28;01mwith\u001b[39;00m \u001b[38;5;28;43mopen\u001b[39;49m\u001b[43m(\u001b[49m\u001b[43mhydrotable_path\u001b[49m\u001b[43m,\u001b[49m\u001b[43m \u001b[49m\u001b[38;5;124;43m\"\u001b[39;49m\u001b[38;5;124;43mr\u001b[39;49m\u001b[38;5;124;43m\"\u001b[39;49m\u001b[43m)\u001b[49m \u001b[38;5;28;01mas\u001b[39;00m infile:\n\u001b[1;32m     53\u001b[0m     reader \u001b[38;5;241m=\u001b[39m csv\u001b[38;5;241m.\u001b[39mreader(infile)\n\u001b[1;32m     54\u001b[0m     first_row \u001b[38;5;241m=\u001b[39m \u001b[38;5;28mnext\u001b[39m(reader)\n",
      "\u001b[0;31mFileNotFoundError\u001b[0m: [Errno 2] No such file or directory: '/Users/supath/Downloads/MSResearch/CNN/fimPackage/docs/output/flood_030202020/030202020/branch_ids.csv'"
     ]
    }
   ],
   "source": [
    "#To setup and download the HUC8 rasters\n",
    "import owphandfim as fm \n",
    "\n",
    "#for single HUC8\n",
    "HUC8 = \"030202020\"\n",
    "\n",
    "fm.DownloadHUC8(HUC8)   #Download HUC8 rasters"
   ]
  },
  {
   "cell_type": "code",
   "execution_count": null,
   "metadata": {},
   "outputs": [],
   "source": []
  }
 ],
 "metadata": {
  "kernelspec": {
   "display_name": "OWPHANDFIM",
   "language": "python",
   "name": "python3"
  },
  "language_info": {
   "codemirror_mode": {
    "name": "ipython",
    "version": 3
   },
   "file_extension": ".py",
   "mimetype": "text/x-python",
   "name": "python",
   "nbconvert_exporter": "python",
   "pygments_lexer": "ipython3",
   "version": "3.10.14"
  }
 },
 "nbformat": 4,
 "nbformat_minor": 2
}
